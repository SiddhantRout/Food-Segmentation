{
 "cells": [
  {
   "cell_type": "code",
   "execution_count": 4,
   "id": "1e97b0e2-87a9-4faa-bc74-6c6dd3d1ddd1",
   "metadata": {},
   "outputs": [
    {
     "name": "stdout",
     "output_type": "stream",
     "text": [
      "Getting data from provider_1 at http://provider1.com/api with token token1\n"
     ]
    },
    {
     "data": {
      "text/plain": [
       "{'status': 'success'}"
      ]
     },
     "execution_count": 4,
     "metadata": {},
     "output_type": "execute_result"
    }
   ],
   "source": [
    "import os\n",
    "import json\n",
    "\n",
    "# Configuration for providers\n",
    "PROVIDER_CONFIG = {\n",
    "    'default_provider': 'provider_1',  # Default provider\n",
    "    'provider_1': {\n",
    "        'url': 'http://provider1.com/api',\n",
    "        'auth': 'token1',\n",
    "    },\n",
    "    'provider_2': {\n",
    "        'url': 'http://provider2.com/api',\n",
    "        'auth': 'token2',\n",
    "    },\n",
    "}\n",
    "\n",
    "class Provider:\n",
    "    def __init__(self, provider_name):\n",
    "        self.provider_name = provider_name\n",
    "        self.config = PROVIDER_CONFIG.get(provider_name, {})\n",
    "        self.url = self.config.get('url')\n",
    "        self.auth_token = self.config.get('auth')\n",
    "\n",
    "    def get_data(self):\n",
    "        # Example method to use provider\n",
    "        print(f\"Getting data from {self.provider_name} at {self.url} with token {self.auth_token}\")\n",
    "        return {\"status\": \"success\"}\n",
    "\n",
    "def get_provider(provider_name=None):\n",
    "    \"\"\"Returns the provider instance based on the name or default configuration\"\"\"\n",
    "    provider_name = provider_name or PROVIDER_CONFIG['default_provider']\n",
    "    return Provider(provider_name)\n",
    "\n",
    "# Check if the PROVIDER_NAME environment variable is set\n",
    "provider_name = os.getenv('PROVIDER_NAME', PROVIDER_CONFIG['default_provider'])\n",
    "provider = get_provider(provider_name)\n",
    "\n",
    "# Example to use the provider and fetch data\n",
    "provider.get_data()\n"
   ]
  },
  {
   "cell_type": "code",
   "execution_count": 5,
   "id": "6240c6f2-981e-4917-a8c2-cc8ce9b4d643",
   "metadata": {},
   "outputs": [
    {
     "name": "stdout",
     "output_type": "stream",
     "text": [
      "No GPU found, using CPU.\n"
     ]
    }
   ],
   "source": [
    "import torch\n",
    "\n",
    "def check_gpu_usage():\n",
    "    # Check if CUDA (GPU support) is available\n",
    "    if torch.cuda.is_available():\n",
    "        device = torch.device(\"cuda\")  # Set device to GPU\n",
    "        print(f\"GPU is being used: {torch.cuda.get_device_name(device)}\")\n",
    "    else:\n",
    "        device = torch.device(\"cpu\")  # Fallback to CPU if no GPU is available\n",
    "        print(\"No GPU found, using CPU.\")\n",
    "    return device\n",
    "\n",
    "# Check GPU usage and set the device\n",
    "device = check_gpu_usage()\n",
    "\n",
    "# Now, let's move on to training YOLOv8 on the selected device\n"
   ]
  },
  {
   "cell_type": "code",
   "execution_count": null,
   "id": "79871509-3c26-44aa-a8ac-21b4d989764b",
   "metadata": {},
   "outputs": [],
   "source": []
  }
 ],
 "metadata": {
  "kernelspec": {
   "display_name": "Python 3 (ipykernel)",
   "language": "python",
   "name": "python3"
  },
  "language_info": {
   "codemirror_mode": {
    "name": "ipython",
    "version": 3
   },
   "file_extension": ".py",
   "mimetype": "text/x-python",
   "name": "python",
   "nbconvert_exporter": "python",
   "pygments_lexer": "ipython3",
   "version": "3.9.21"
  }
 },
 "nbformat": 4,
 "nbformat_minor": 5
}
