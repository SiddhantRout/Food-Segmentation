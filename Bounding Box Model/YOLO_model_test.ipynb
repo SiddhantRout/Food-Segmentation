{
 "cells": [
  {
   "cell_type": "code",
   "execution_count": 2,
   "id": "1cf291b0-cf43-4dc7-958c-20e6fa700860",
   "metadata": {},
   "outputs": [
    {
     "name": "stdout",
     "output_type": "stream",
     "text": [
      "New https://pypi.org/project/ultralytics/8.3.117 available  Update with 'pip install -U ultralytics'\n",
      "Ultralytics 8.3.110  Python-3.9.21 torch-2.4.1+cpu \n"
     ]
    },
    {
     "ename": "ValueError",
     "evalue": "Invalid CUDA 'device=0' requested. Use 'device=cpu' or pass valid CUDA device(s) if available, i.e. 'device=0' or 'device=0,1,2,3' for Multi-GPU.\n\ntorch.cuda.is_available(): False\ntorch.cuda.device_count(): 0\nos.environ['CUDA_VISIBLE_DEVICES']: None\nSee https://pytorch.org/get-started/locally/ for up-to-date torch install instructions if no CUDA devices are seen by torch.\n",
     "output_type": "error",
     "traceback": [
      "\u001b[1;31m---------------------------------------------------------------------------\u001b[0m",
      "\u001b[1;31mValueError\u001b[0m                                Traceback (most recent call last)",
      "Cell \u001b[1;32mIn[2], line 7\u001b[0m\n\u001b[0;32m      4\u001b[0m model \u001b[38;5;241m=\u001b[39m YOLO(\u001b[38;5;124m'\u001b[39m\u001b[38;5;124myolov8n.pt\u001b[39m\u001b[38;5;124m'\u001b[39m)\n\u001b[0;32m      6\u001b[0m \u001b[38;5;66;03m# Train with GPU (cuda:0 = first GPU)\u001b[39;00m\n\u001b[1;32m----> 7\u001b[0m \u001b[43mmodel\u001b[49m\u001b[38;5;241;43m.\u001b[39;49m\u001b[43mtrain\u001b[49m\u001b[43m(\u001b[49m\n\u001b[0;32m      8\u001b[0m \u001b[43m    \u001b[49m\u001b[43mdata\u001b[49m\u001b[38;5;241;43m=\u001b[39;49m\u001b[38;5;124;43mr\u001b[39;49m\u001b[38;5;124;43m\"\u001b[39;49m\u001b[38;5;124;43mD:\u001b[39;49m\u001b[38;5;124;43m\\\u001b[39;49m\u001b[38;5;124;43mProjects\u001b[39;49m\u001b[38;5;124;43m\\\u001b[39;49m\u001b[38;5;124;43mCDS\u001b[39;49m\u001b[38;5;124;43m\\\u001b[39;49m\u001b[38;5;124;43mCapstone Project\u001b[39;49m\u001b[38;5;124;43m\\\u001b[39;49m\u001b[38;5;124;43mUECFOOD100\u001b[39;49m\u001b[38;5;124;43m\\\u001b[39;49m\u001b[38;5;124;43mprocessed_for_yolo\u001b[39;49m\u001b[38;5;124;43m\\\u001b[39;49m\u001b[38;5;124;43mdataset.yaml\u001b[39;49m\u001b[38;5;124;43m\"\u001b[39;49m\u001b[43m,\u001b[49m\n\u001b[0;32m      9\u001b[0m \u001b[43m    \u001b[49m\u001b[43mepochs\u001b[49m\u001b[38;5;241;43m=\u001b[39;49m\u001b[38;5;241;43m50\u001b[39;49m\u001b[43m,\u001b[49m\n\u001b[0;32m     10\u001b[0m \u001b[43m    \u001b[49m\u001b[43mimgsz\u001b[49m\u001b[38;5;241;43m=\u001b[39;49m\u001b[38;5;241;43m640\u001b[39;49m\u001b[43m,\u001b[49m\n\u001b[0;32m     11\u001b[0m \u001b[43m    \u001b[49m\u001b[43mbatch\u001b[49m\u001b[38;5;241;43m=\u001b[39;49m\u001b[38;5;241;43m16\u001b[39;49m\u001b[43m,\u001b[49m\n\u001b[0;32m     12\u001b[0m \u001b[43m    \u001b[49m\u001b[43mdevice\u001b[49m\u001b[38;5;241;43m=\u001b[39;49m\u001b[38;5;241;43m0\u001b[39;49m\u001b[43m,\u001b[49m\u001b[43m   \u001b[49m\u001b[38;5;66;43;03m# or device='cuda:0'\u001b[39;49;00m\n\u001b[0;32m     13\u001b[0m \u001b[43m    \u001b[49m\u001b[43mname\u001b[49m\u001b[38;5;241;43m=\u001b[39;49m\u001b[38;5;124;43m'\u001b[39;49m\u001b[38;5;124;43mV0_uecfood100_yolov8_test\u001b[39;49m\u001b[38;5;124;43m'\u001b[39;49m\n\u001b[0;32m     14\u001b[0m \u001b[43m)\u001b[49m\n",
      "File \u001b[1;32m~\\anaconda3\\envs\\jupyterlab\\lib\\site-packages\\ultralytics\\engine\\model.py:785\u001b[0m, in \u001b[0;36mModel.train\u001b[1;34m(self, trainer, **kwargs)\u001b[0m\n\u001b[0;32m    782\u001b[0m \u001b[38;5;28;01mif\u001b[39;00m args\u001b[38;5;241m.\u001b[39mget(\u001b[38;5;124m\"\u001b[39m\u001b[38;5;124mresume\u001b[39m\u001b[38;5;124m\"\u001b[39m):\n\u001b[0;32m    783\u001b[0m     args[\u001b[38;5;124m\"\u001b[39m\u001b[38;5;124mresume\u001b[39m\u001b[38;5;124m\"\u001b[39m] \u001b[38;5;241m=\u001b[39m \u001b[38;5;28mself\u001b[39m\u001b[38;5;241m.\u001b[39mckpt_path\n\u001b[1;32m--> 785\u001b[0m \u001b[38;5;28mself\u001b[39m\u001b[38;5;241m.\u001b[39mtrainer \u001b[38;5;241m=\u001b[39m \u001b[43m(\u001b[49m\u001b[43mtrainer\u001b[49m\u001b[43m \u001b[49m\u001b[38;5;129;43;01mor\u001b[39;49;00m\u001b[43m \u001b[49m\u001b[38;5;28;43mself\u001b[39;49m\u001b[38;5;241;43m.\u001b[39;49m\u001b[43m_smart_load\u001b[49m\u001b[43m(\u001b[49m\u001b[38;5;124;43m\"\u001b[39;49m\u001b[38;5;124;43mtrainer\u001b[39;49m\u001b[38;5;124;43m\"\u001b[39;49m\u001b[43m)\u001b[49m\u001b[43m)\u001b[49m\u001b[43m(\u001b[49m\u001b[43moverrides\u001b[49m\u001b[38;5;241;43m=\u001b[39;49m\u001b[43margs\u001b[49m\u001b[43m,\u001b[49m\u001b[43m \u001b[49m\u001b[43m_callbacks\u001b[49m\u001b[38;5;241;43m=\u001b[39;49m\u001b[38;5;28;43mself\u001b[39;49m\u001b[38;5;241;43m.\u001b[39;49m\u001b[43mcallbacks\u001b[49m\u001b[43m)\u001b[49m\n\u001b[0;32m    786\u001b[0m \u001b[38;5;28;01mif\u001b[39;00m \u001b[38;5;129;01mnot\u001b[39;00m args\u001b[38;5;241m.\u001b[39mget(\u001b[38;5;124m\"\u001b[39m\u001b[38;5;124mresume\u001b[39m\u001b[38;5;124m\"\u001b[39m):  \u001b[38;5;66;03m# manually set model only if not resuming\u001b[39;00m\n\u001b[0;32m    787\u001b[0m     \u001b[38;5;28mself\u001b[39m\u001b[38;5;241m.\u001b[39mtrainer\u001b[38;5;241m.\u001b[39mmodel \u001b[38;5;241m=\u001b[39m \u001b[38;5;28mself\u001b[39m\u001b[38;5;241m.\u001b[39mtrainer\u001b[38;5;241m.\u001b[39mget_model(weights\u001b[38;5;241m=\u001b[39m\u001b[38;5;28mself\u001b[39m\u001b[38;5;241m.\u001b[39mmodel \u001b[38;5;28;01mif\u001b[39;00m \u001b[38;5;28mself\u001b[39m\u001b[38;5;241m.\u001b[39mckpt \u001b[38;5;28;01melse\u001b[39;00m \u001b[38;5;28;01mNone\u001b[39;00m, cfg\u001b[38;5;241m=\u001b[39m\u001b[38;5;28mself\u001b[39m\u001b[38;5;241m.\u001b[39mmodel\u001b[38;5;241m.\u001b[39myaml)\n",
      "File \u001b[1;32m~\\anaconda3\\envs\\jupyterlab\\lib\\site-packages\\ultralytics\\engine\\trainer.py:107\u001b[0m, in \u001b[0;36mBaseTrainer.__init__\u001b[1;34m(self, cfg, overrides, _callbacks)\u001b[0m\n\u001b[0;32m    105\u001b[0m \u001b[38;5;28mself\u001b[39m\u001b[38;5;241m.\u001b[39margs \u001b[38;5;241m=\u001b[39m get_cfg(cfg, overrides)\n\u001b[0;32m    106\u001b[0m \u001b[38;5;28mself\u001b[39m\u001b[38;5;241m.\u001b[39mcheck_resume(overrides)\n\u001b[1;32m--> 107\u001b[0m \u001b[38;5;28mself\u001b[39m\u001b[38;5;241m.\u001b[39mdevice \u001b[38;5;241m=\u001b[39m \u001b[43mselect_device\u001b[49m\u001b[43m(\u001b[49m\u001b[38;5;28;43mself\u001b[39;49m\u001b[38;5;241;43m.\u001b[39;49m\u001b[43margs\u001b[49m\u001b[38;5;241;43m.\u001b[39;49m\u001b[43mdevice\u001b[49m\u001b[43m,\u001b[49m\u001b[43m \u001b[49m\u001b[38;5;28;43mself\u001b[39;49m\u001b[38;5;241;43m.\u001b[39;49m\u001b[43margs\u001b[49m\u001b[38;5;241;43m.\u001b[39;49m\u001b[43mbatch\u001b[49m\u001b[43m)\u001b[49m\n\u001b[0;32m    108\u001b[0m \u001b[38;5;28mself\u001b[39m\u001b[38;5;241m.\u001b[39mvalidator \u001b[38;5;241m=\u001b[39m \u001b[38;5;28;01mNone\u001b[39;00m\n\u001b[0;32m    109\u001b[0m \u001b[38;5;28mself\u001b[39m\u001b[38;5;241m.\u001b[39mmetrics \u001b[38;5;241m=\u001b[39m \u001b[38;5;28;01mNone\u001b[39;00m\n",
      "File \u001b[1;32m~\\anaconda3\\envs\\jupyterlab\\lib\\site-packages\\ultralytics\\utils\\torch_utils.py:190\u001b[0m, in \u001b[0;36mselect_device\u001b[1;34m(device, batch, newline, verbose)\u001b[0m\n\u001b[0;32m    183\u001b[0m         LOGGER\u001b[38;5;241m.\u001b[39minfo(s)\n\u001b[0;32m    184\u001b[0m         install \u001b[38;5;241m=\u001b[39m (\n\u001b[0;32m    185\u001b[0m             \u001b[38;5;124m\"\u001b[39m\u001b[38;5;124mSee https://pytorch.org/get-started/locally/ for up-to-date torch install instructions if no \u001b[39m\u001b[38;5;124m\"\u001b[39m\n\u001b[0;32m    186\u001b[0m             \u001b[38;5;124m\"\u001b[39m\u001b[38;5;124mCUDA devices are seen by torch.\u001b[39m\u001b[38;5;130;01m\\n\u001b[39;00m\u001b[38;5;124m\"\u001b[39m\n\u001b[0;32m    187\u001b[0m             \u001b[38;5;28;01mif\u001b[39;00m torch\u001b[38;5;241m.\u001b[39mcuda\u001b[38;5;241m.\u001b[39mdevice_count() \u001b[38;5;241m==\u001b[39m \u001b[38;5;241m0\u001b[39m\n\u001b[0;32m    188\u001b[0m             \u001b[38;5;28;01melse\u001b[39;00m \u001b[38;5;124m\"\u001b[39m\u001b[38;5;124m\"\u001b[39m\n\u001b[0;32m    189\u001b[0m         )\n\u001b[1;32m--> 190\u001b[0m         \u001b[38;5;28;01mraise\u001b[39;00m \u001b[38;5;167;01mValueError\u001b[39;00m(\n\u001b[0;32m    191\u001b[0m             \u001b[38;5;124mf\u001b[39m\u001b[38;5;124m\"\u001b[39m\u001b[38;5;124mInvalid CUDA \u001b[39m\u001b[38;5;124m'\u001b[39m\u001b[38;5;124mdevice=\u001b[39m\u001b[38;5;132;01m{\u001b[39;00mdevice\u001b[38;5;132;01m}\u001b[39;00m\u001b[38;5;124m'\u001b[39m\u001b[38;5;124m requested.\u001b[39m\u001b[38;5;124m\"\u001b[39m\n\u001b[0;32m    192\u001b[0m             \u001b[38;5;124mf\u001b[39m\u001b[38;5;124m\"\u001b[39m\u001b[38;5;124m Use \u001b[39m\u001b[38;5;124m'\u001b[39m\u001b[38;5;124mdevice=cpu\u001b[39m\u001b[38;5;124m'\u001b[39m\u001b[38;5;124m or pass valid CUDA device(s) if available,\u001b[39m\u001b[38;5;124m\"\u001b[39m\n\u001b[0;32m    193\u001b[0m             \u001b[38;5;124mf\u001b[39m\u001b[38;5;124m\"\u001b[39m\u001b[38;5;124m i.e. \u001b[39m\u001b[38;5;124m'\u001b[39m\u001b[38;5;124mdevice=0\u001b[39m\u001b[38;5;124m'\u001b[39m\u001b[38;5;124m or \u001b[39m\u001b[38;5;124m'\u001b[39m\u001b[38;5;124mdevice=0,1,2,3\u001b[39m\u001b[38;5;124m'\u001b[39m\u001b[38;5;124m for Multi-GPU.\u001b[39m\u001b[38;5;130;01m\\n\u001b[39;00m\u001b[38;5;124m\"\u001b[39m\n\u001b[0;32m    194\u001b[0m             \u001b[38;5;124mf\u001b[39m\u001b[38;5;124m\"\u001b[39m\u001b[38;5;130;01m\\n\u001b[39;00m\u001b[38;5;124mtorch.cuda.is_available(): \u001b[39m\u001b[38;5;132;01m{\u001b[39;00mtorch\u001b[38;5;241m.\u001b[39mcuda\u001b[38;5;241m.\u001b[39mis_available()\u001b[38;5;132;01m}\u001b[39;00m\u001b[38;5;124m\"\u001b[39m\n\u001b[0;32m    195\u001b[0m             \u001b[38;5;124mf\u001b[39m\u001b[38;5;124m\"\u001b[39m\u001b[38;5;130;01m\\n\u001b[39;00m\u001b[38;5;124mtorch.cuda.device_count(): \u001b[39m\u001b[38;5;132;01m{\u001b[39;00mtorch\u001b[38;5;241m.\u001b[39mcuda\u001b[38;5;241m.\u001b[39mdevice_count()\u001b[38;5;132;01m}\u001b[39;00m\u001b[38;5;124m\"\u001b[39m\n\u001b[0;32m    196\u001b[0m             \u001b[38;5;124mf\u001b[39m\u001b[38;5;124m\"\u001b[39m\u001b[38;5;130;01m\\n\u001b[39;00m\u001b[38;5;124mos.environ[\u001b[39m\u001b[38;5;124m'\u001b[39m\u001b[38;5;124mCUDA_VISIBLE_DEVICES\u001b[39m\u001b[38;5;124m'\u001b[39m\u001b[38;5;124m]: \u001b[39m\u001b[38;5;132;01m{\u001b[39;00mvisible\u001b[38;5;132;01m}\u001b[39;00m\u001b[38;5;130;01m\\n\u001b[39;00m\u001b[38;5;124m\"\u001b[39m\n\u001b[0;32m    197\u001b[0m             \u001b[38;5;124mf\u001b[39m\u001b[38;5;124m\"\u001b[39m\u001b[38;5;132;01m{\u001b[39;00minstall\u001b[38;5;132;01m}\u001b[39;00m\u001b[38;5;124m\"\u001b[39m\n\u001b[0;32m    198\u001b[0m         )\n\u001b[0;32m    200\u001b[0m \u001b[38;5;28;01mif\u001b[39;00m \u001b[38;5;129;01mnot\u001b[39;00m cpu \u001b[38;5;129;01mand\u001b[39;00m \u001b[38;5;129;01mnot\u001b[39;00m mps \u001b[38;5;129;01mand\u001b[39;00m torch\u001b[38;5;241m.\u001b[39mcuda\u001b[38;5;241m.\u001b[39mis_available():  \u001b[38;5;66;03m# prefer GPU if available\u001b[39;00m\n\u001b[0;32m    201\u001b[0m     devices \u001b[38;5;241m=\u001b[39m device\u001b[38;5;241m.\u001b[39msplit(\u001b[38;5;124m\"\u001b[39m\u001b[38;5;124m,\u001b[39m\u001b[38;5;124m\"\u001b[39m) \u001b[38;5;28;01mif\u001b[39;00m device \u001b[38;5;28;01melse\u001b[39;00m \u001b[38;5;124m\"\u001b[39m\u001b[38;5;124m0\u001b[39m\u001b[38;5;124m\"\u001b[39m  \u001b[38;5;66;03m# i.e. \"0,1\" -> [\"0\", \"1\"]\u001b[39;00m\n",
      "\u001b[1;31mValueError\u001b[0m: Invalid CUDA 'device=0' requested. Use 'device=cpu' or pass valid CUDA device(s) if available, i.e. 'device=0' or 'device=0,1,2,3' for Multi-GPU.\n\ntorch.cuda.is_available(): False\ntorch.cuda.device_count(): 0\nos.environ['CUDA_VISIBLE_DEVICES']: None\nSee https://pytorch.org/get-started/locally/ for up-to-date torch install instructions if no CUDA devices are seen by torch.\n"
     ]
    }
   ],
   "source": [
    "from ultralytics import YOLO\n",
    "\n",
    "# Load model\n",
    "model = YOLO('yolov8n.pt')\n",
    "\n",
    "# Train with GPU (cuda:0 = first GPU)\n",
    "model.train(\n",
    "    data=r\"D:\\Projects\\CDS\\Capstone Project\\UECFOOD100\\processed_for_yolo\\dataset.yaml\",\n",
    "    epochs=50,\n",
    "    imgsz=640,\n",
    "    batch=16,\n",
    "    device=0,   # or device='cuda:0'\n",
    "    name='V0_uecfood100_yolov8_test'\n",
    ")\n"
   ]
  },
  {
   "cell_type": "code",
   "execution_count": 6,
   "id": "36fd9c57-b04f-4c54-8618-2f1f67dabc91",
   "metadata": {},
   "outputs": [
    {
     "name": "stdout",
     "output_type": "stream",
     "text": [
      "Ultralytics 8.3.110  Python-3.9.21 torch-2.4.1+cpu CPU (AMD Ryzen 9 6900HS with Radeon Graphics)\n",
      "YOLOv8n summary (fused): 72 layers, 3,151,904 parameters, 0 gradients, 8.7 GFLOPs\n",
      "\n",
      "\u001b[34m\u001b[1mPyTorch:\u001b[0m starting from 'yolov8n.pt' with input shape (1, 3, 640, 640) BCHW and output shape(s) (1, 84, 8400) (6.2 MB)\n",
      "\n",
      "\u001b[34m\u001b[1mONNX:\u001b[0m starting export with onnx 1.17.0 opset 19...\n",
      "\u001b[34m\u001b[1mONNX:\u001b[0m slimming with onnxslim 0.1.50...\n",
      "\u001b[34m\u001b[1mONNX:\u001b[0m export success  1.6s, saved as 'yolov8n.onnx' (12.2 MB)\n",
      "\n",
      "Export complete (1.9s)\n",
      "Results saved to \u001b[1mD:\\Projects\\CDS\\Capstone Project\\Food-Segmentation\\Bounding Box Model\u001b[0m\n",
      "Predict:         yolo predict task=detect model=yolov8n.onnx imgsz=640  \n",
      "Validate:        yolo val task=detect model=yolov8n.onnx imgsz=640 data=coco.yaml  \n",
      "Visualize:       https://netron.app\n"
     ]
    },
    {
     "data": {
      "text/plain": [
       "'yolov8n.onnx'"
      ]
     },
     "execution_count": 6,
     "metadata": {},
     "output_type": "execute_result"
    }
   ],
   "source": [
    "from ultralytics import YOLO\n",
    "\n",
    "# Load any YOLO model (can be 'yolov8n.pt', 'yolov8s.pt', your trained best.pt, etc.)\n",
    "model = YOLO('yolov8n.pt')  # or your model path\n",
    "\n",
    "# Export to ONNX\n",
    "model.export(format='onnx')\n"
   ]
  },
  {
   "cell_type": "code",
   "execution_count": 4,
   "id": "3cb3d774-c007-459b-9bf7-31a1d6cba664",
   "metadata": {},
   "outputs": [
    {
     "name": "stdout",
     "output_type": "stream",
     "text": [
      "WARNING  Unable to automatically guess model task, assuming 'task=detect'. Explicitly define task for your model, i.e. 'task=detect', 'segment', 'classify','pose' or 'obb'.\n",
      "Loading yolov8n.onnx for ONNX Runtime inference...\n",
      "Using ONNX Runtime CPUExecutionProvider\n",
      "\n"
     ]
    },
    {
     "ename": "FileNotFoundError",
     "evalue": "path/to/image.jpg does not exist",
     "output_type": "error",
     "traceback": [
      "\u001b[1;31m---------------------------------------------------------------------------\u001b[0m",
      "\u001b[1;31mFileNotFoundError\u001b[0m                         Traceback (most recent call last)",
      "Cell \u001b[1;32mIn[4], line 6\u001b[0m\n\u001b[0;32m      3\u001b[0m model \u001b[38;5;241m=\u001b[39m YOLO(\u001b[38;5;124m'\u001b[39m\u001b[38;5;124myolov8n.onnx\u001b[39m\u001b[38;5;124m'\u001b[39m)  \u001b[38;5;66;03m# Notice: now loading the exported ONNX model\u001b[39;00m\n\u001b[0;32m      5\u001b[0m \u001b[38;5;66;03m# Predict on image\u001b[39;00m\n\u001b[1;32m----> 6\u001b[0m results \u001b[38;5;241m=\u001b[39m \u001b[43mmodel\u001b[49m\u001b[38;5;241;43m.\u001b[39;49m\u001b[43mpredict\u001b[49m\u001b[43m(\u001b[49m\u001b[43msource\u001b[49m\u001b[38;5;241;43m=\u001b[39;49m\u001b[38;5;124;43m'\u001b[39;49m\u001b[38;5;124;43mpath/to/image.jpg\u001b[39;49m\u001b[38;5;124;43m'\u001b[39;49m\u001b[43m,\u001b[49m\u001b[43m \u001b[49m\u001b[43mimgsz\u001b[49m\u001b[38;5;241;43m=\u001b[39;49m\u001b[38;5;241;43m640\u001b[39;49m\u001b[43m,\u001b[49m\u001b[43m \u001b[49m\u001b[43mconf\u001b[49m\u001b[38;5;241;43m=\u001b[39;49m\u001b[38;5;241;43m0.25\u001b[39;49m\u001b[43m)\u001b[49m\n\u001b[0;32m      8\u001b[0m \u001b[38;5;66;03m# Show the result\u001b[39;00m\n\u001b[0;32m      9\u001b[0m results[\u001b[38;5;241m0\u001b[39m]\u001b[38;5;241m.\u001b[39mshow()\n",
      "File \u001b[1;32m~\\anaconda3\\envs\\jupyterlab\\lib\\site-packages\\ultralytics\\engine\\model.py:550\u001b[0m, in \u001b[0;36mModel.predict\u001b[1;34m(self, source, stream, predictor, **kwargs)\u001b[0m\n\u001b[0;32m    548\u001b[0m \u001b[38;5;28;01mif\u001b[39;00m prompts \u001b[38;5;129;01mand\u001b[39;00m \u001b[38;5;28mhasattr\u001b[39m(\u001b[38;5;28mself\u001b[39m\u001b[38;5;241m.\u001b[39mpredictor, \u001b[38;5;124m\"\u001b[39m\u001b[38;5;124mset_prompts\u001b[39m\u001b[38;5;124m\"\u001b[39m):  \u001b[38;5;66;03m# for SAM-type models\u001b[39;00m\n\u001b[0;32m    549\u001b[0m     \u001b[38;5;28mself\u001b[39m\u001b[38;5;241m.\u001b[39mpredictor\u001b[38;5;241m.\u001b[39mset_prompts(prompts)\n\u001b[1;32m--> 550\u001b[0m \u001b[38;5;28;01mreturn\u001b[39;00m \u001b[38;5;28mself\u001b[39m\u001b[38;5;241m.\u001b[39mpredictor\u001b[38;5;241m.\u001b[39mpredict_cli(source\u001b[38;5;241m=\u001b[39msource) \u001b[38;5;28;01mif\u001b[39;00m is_cli \u001b[38;5;28;01melse\u001b[39;00m \u001b[38;5;28;43mself\u001b[39;49m\u001b[38;5;241;43m.\u001b[39;49m\u001b[43mpredictor\u001b[49m\u001b[43m(\u001b[49m\u001b[43msource\u001b[49m\u001b[38;5;241;43m=\u001b[39;49m\u001b[43msource\u001b[49m\u001b[43m,\u001b[49m\u001b[43m \u001b[49m\u001b[43mstream\u001b[49m\u001b[38;5;241;43m=\u001b[39;49m\u001b[43mstream\u001b[49m\u001b[43m)\u001b[49m\n",
      "File \u001b[1;32m~\\anaconda3\\envs\\jupyterlab\\lib\\site-packages\\ultralytics\\engine\\predictor.py:216\u001b[0m, in \u001b[0;36mBasePredictor.__call__\u001b[1;34m(self, source, model, stream, *args, **kwargs)\u001b[0m\n\u001b[0;32m    214\u001b[0m     \u001b[38;5;28;01mreturn\u001b[39;00m \u001b[38;5;28mself\u001b[39m\u001b[38;5;241m.\u001b[39mstream_inference(source, model, \u001b[38;5;241m*\u001b[39margs, \u001b[38;5;241m*\u001b[39m\u001b[38;5;241m*\u001b[39mkwargs)\n\u001b[0;32m    215\u001b[0m \u001b[38;5;28;01melse\u001b[39;00m:\n\u001b[1;32m--> 216\u001b[0m     \u001b[38;5;28;01mreturn\u001b[39;00m \u001b[38;5;28;43mlist\u001b[39;49m\u001b[43m(\u001b[49m\u001b[38;5;28;43mself\u001b[39;49m\u001b[38;5;241;43m.\u001b[39;49m\u001b[43mstream_inference\u001b[49m\u001b[43m(\u001b[49m\u001b[43msource\u001b[49m\u001b[43m,\u001b[49m\u001b[43m \u001b[49m\u001b[43mmodel\u001b[49m\u001b[43m,\u001b[49m\u001b[43m \u001b[49m\u001b[38;5;241;43m*\u001b[39;49m\u001b[43margs\u001b[49m\u001b[43m,\u001b[49m\u001b[43m \u001b[49m\u001b[38;5;241;43m*\u001b[39;49m\u001b[38;5;241;43m*\u001b[39;49m\u001b[43mkwargs\u001b[49m\u001b[43m)\u001b[49m\u001b[43m)\u001b[49m\n",
      "File \u001b[1;32m~\\anaconda3\\envs\\jupyterlab\\lib\\site-packages\\torch\\utils\\_contextlib.py:36\u001b[0m, in \u001b[0;36m_wrap_generator.<locals>.generator_context\u001b[1;34m(*args, **kwargs)\u001b[0m\n\u001b[0;32m     33\u001b[0m \u001b[38;5;28;01mtry\u001b[39;00m:\n\u001b[0;32m     34\u001b[0m     \u001b[38;5;66;03m# Issuing `None` to a generator fires it up\u001b[39;00m\n\u001b[0;32m     35\u001b[0m     \u001b[38;5;28;01mwith\u001b[39;00m ctx_factory():\n\u001b[1;32m---> 36\u001b[0m         response \u001b[38;5;241m=\u001b[39m \u001b[43mgen\u001b[49m\u001b[38;5;241;43m.\u001b[39;49m\u001b[43msend\u001b[49m\u001b[43m(\u001b[49m\u001b[38;5;28;43;01mNone\u001b[39;49;00m\u001b[43m)\u001b[49m\n\u001b[0;32m     38\u001b[0m     \u001b[38;5;28;01mwhile\u001b[39;00m \u001b[38;5;28;01mTrue\u001b[39;00m:\n\u001b[0;32m     39\u001b[0m         \u001b[38;5;28;01mtry\u001b[39;00m:\n\u001b[0;32m     40\u001b[0m             \u001b[38;5;66;03m# Forward the response to our caller and get its next request\u001b[39;00m\n",
      "File \u001b[1;32m~\\anaconda3\\envs\\jupyterlab\\lib\\site-packages\\ultralytics\\engine\\predictor.py:297\u001b[0m, in \u001b[0;36mBasePredictor.stream_inference\u001b[1;34m(self, source, model, *args, **kwargs)\u001b[0m\n\u001b[0;32m    293\u001b[0m     \u001b[38;5;28mself\u001b[39m\u001b[38;5;241m.\u001b[39msetup_model(model)\n\u001b[0;32m    295\u001b[0m \u001b[38;5;28;01mwith\u001b[39;00m \u001b[38;5;28mself\u001b[39m\u001b[38;5;241m.\u001b[39m_lock:  \u001b[38;5;66;03m# for thread-safe inference\u001b[39;00m\n\u001b[0;32m    296\u001b[0m     \u001b[38;5;66;03m# Setup source every time predict is called\u001b[39;00m\n\u001b[1;32m--> 297\u001b[0m     \u001b[38;5;28;43mself\u001b[39;49m\u001b[38;5;241;43m.\u001b[39;49m\u001b[43msetup_source\u001b[49m\u001b[43m(\u001b[49m\u001b[43msource\u001b[49m\u001b[43m \u001b[49m\u001b[38;5;28;43;01mif\u001b[39;49;00m\u001b[43m \u001b[49m\u001b[43msource\u001b[49m\u001b[43m \u001b[49m\u001b[38;5;129;43;01mis\u001b[39;49;00m\u001b[43m \u001b[49m\u001b[38;5;129;43;01mnot\u001b[39;49;00m\u001b[43m \u001b[49m\u001b[38;5;28;43;01mNone\u001b[39;49;00m\u001b[43m \u001b[49m\u001b[38;5;28;43;01melse\u001b[39;49;00m\u001b[43m \u001b[49m\u001b[38;5;28;43mself\u001b[39;49m\u001b[38;5;241;43m.\u001b[39;49m\u001b[43margs\u001b[49m\u001b[38;5;241;43m.\u001b[39;49m\u001b[43msource\u001b[49m\u001b[43m)\u001b[49m\n\u001b[0;32m    299\u001b[0m     \u001b[38;5;66;03m# Check if save_dir/ label file exists\u001b[39;00m\n\u001b[0;32m    300\u001b[0m     \u001b[38;5;28;01mif\u001b[39;00m \u001b[38;5;28mself\u001b[39m\u001b[38;5;241m.\u001b[39margs\u001b[38;5;241m.\u001b[39msave \u001b[38;5;129;01mor\u001b[39;00m \u001b[38;5;28mself\u001b[39m\u001b[38;5;241m.\u001b[39margs\u001b[38;5;241m.\u001b[39msave_txt:\n",
      "File \u001b[1;32m~\\anaconda3\\envs\\jupyterlab\\lib\\site-packages\\ultralytics\\engine\\predictor.py:257\u001b[0m, in \u001b[0;36mBasePredictor.setup_source\u001b[1;34m(self, source)\u001b[0m\n\u001b[0;32m    247\u001b[0m \u001b[38;5;28mself\u001b[39m\u001b[38;5;241m.\u001b[39mimgsz \u001b[38;5;241m=\u001b[39m check_imgsz(\u001b[38;5;28mself\u001b[39m\u001b[38;5;241m.\u001b[39margs\u001b[38;5;241m.\u001b[39mimgsz, stride\u001b[38;5;241m=\u001b[39m\u001b[38;5;28mself\u001b[39m\u001b[38;5;241m.\u001b[39mmodel\u001b[38;5;241m.\u001b[39mstride, min_dim\u001b[38;5;241m=\u001b[39m\u001b[38;5;241m2\u001b[39m)  \u001b[38;5;66;03m# check image size\u001b[39;00m\n\u001b[0;32m    248\u001b[0m \u001b[38;5;28mself\u001b[39m\u001b[38;5;241m.\u001b[39mtransforms \u001b[38;5;241m=\u001b[39m (\n\u001b[0;32m    249\u001b[0m     \u001b[38;5;28mgetattr\u001b[39m(\n\u001b[0;32m    250\u001b[0m         \u001b[38;5;28mself\u001b[39m\u001b[38;5;241m.\u001b[39mmodel\u001b[38;5;241m.\u001b[39mmodel,\n\u001b[1;32m   (...)\u001b[0m\n\u001b[0;32m    255\u001b[0m     \u001b[38;5;28;01melse\u001b[39;00m \u001b[38;5;28;01mNone\u001b[39;00m\n\u001b[0;32m    256\u001b[0m )\n\u001b[1;32m--> 257\u001b[0m \u001b[38;5;28mself\u001b[39m\u001b[38;5;241m.\u001b[39mdataset \u001b[38;5;241m=\u001b[39m \u001b[43mload_inference_source\u001b[49m\u001b[43m(\u001b[49m\n\u001b[0;32m    258\u001b[0m \u001b[43m    \u001b[49m\u001b[43msource\u001b[49m\u001b[38;5;241;43m=\u001b[39;49m\u001b[43msource\u001b[49m\u001b[43m,\u001b[49m\n\u001b[0;32m    259\u001b[0m \u001b[43m    \u001b[49m\u001b[43mbatch\u001b[49m\u001b[38;5;241;43m=\u001b[39;49m\u001b[38;5;28;43mself\u001b[39;49m\u001b[38;5;241;43m.\u001b[39;49m\u001b[43margs\u001b[49m\u001b[38;5;241;43m.\u001b[39;49m\u001b[43mbatch\u001b[49m\u001b[43m,\u001b[49m\n\u001b[0;32m    260\u001b[0m \u001b[43m    \u001b[49m\u001b[43mvid_stride\u001b[49m\u001b[38;5;241;43m=\u001b[39;49m\u001b[38;5;28;43mself\u001b[39;49m\u001b[38;5;241;43m.\u001b[39;49m\u001b[43margs\u001b[49m\u001b[38;5;241;43m.\u001b[39;49m\u001b[43mvid_stride\u001b[49m\u001b[43m,\u001b[49m\n\u001b[0;32m    261\u001b[0m \u001b[43m    \u001b[49m\u001b[43mbuffer\u001b[49m\u001b[38;5;241;43m=\u001b[39;49m\u001b[38;5;28;43mself\u001b[39;49m\u001b[38;5;241;43m.\u001b[39;49m\u001b[43margs\u001b[49m\u001b[38;5;241;43m.\u001b[39;49m\u001b[43mstream_buffer\u001b[49m\u001b[43m,\u001b[49m\n\u001b[0;32m    262\u001b[0m \u001b[43m\u001b[49m\u001b[43m)\u001b[49m\n\u001b[0;32m    263\u001b[0m \u001b[38;5;28mself\u001b[39m\u001b[38;5;241m.\u001b[39msource_type \u001b[38;5;241m=\u001b[39m \u001b[38;5;28mself\u001b[39m\u001b[38;5;241m.\u001b[39mdataset\u001b[38;5;241m.\u001b[39msource_type\n\u001b[0;32m    264\u001b[0m \u001b[38;5;28;01mif\u001b[39;00m \u001b[38;5;129;01mnot\u001b[39;00m \u001b[38;5;28mgetattr\u001b[39m(\u001b[38;5;28mself\u001b[39m, \u001b[38;5;124m\"\u001b[39m\u001b[38;5;124mstream\u001b[39m\u001b[38;5;124m\"\u001b[39m, \u001b[38;5;28;01mTrue\u001b[39;00m) \u001b[38;5;129;01mand\u001b[39;00m (\n\u001b[0;32m    265\u001b[0m     \u001b[38;5;28mself\u001b[39m\u001b[38;5;241m.\u001b[39msource_type\u001b[38;5;241m.\u001b[39mstream\n\u001b[0;32m    266\u001b[0m     \u001b[38;5;129;01mor\u001b[39;00m \u001b[38;5;28mself\u001b[39m\u001b[38;5;241m.\u001b[39msource_type\u001b[38;5;241m.\u001b[39mscreenshot\n\u001b[0;32m    267\u001b[0m     \u001b[38;5;129;01mor\u001b[39;00m \u001b[38;5;28mlen\u001b[39m(\u001b[38;5;28mself\u001b[39m\u001b[38;5;241m.\u001b[39mdataset) \u001b[38;5;241m>\u001b[39m \u001b[38;5;241m1000\u001b[39m  \u001b[38;5;66;03m# many images\u001b[39;00m\n\u001b[0;32m    268\u001b[0m     \u001b[38;5;129;01mor\u001b[39;00m \u001b[38;5;28many\u001b[39m(\u001b[38;5;28mgetattr\u001b[39m(\u001b[38;5;28mself\u001b[39m\u001b[38;5;241m.\u001b[39mdataset, \u001b[38;5;124m\"\u001b[39m\u001b[38;5;124mvideo_flag\u001b[39m\u001b[38;5;124m\"\u001b[39m, [\u001b[38;5;28;01mFalse\u001b[39;00m]))\n\u001b[0;32m    269\u001b[0m ):  \u001b[38;5;66;03m# videos\u001b[39;00m\n",
      "File \u001b[1;32m~\\anaconda3\\envs\\jupyterlab\\lib\\site-packages\\ultralytics\\data\\build.py:253\u001b[0m, in \u001b[0;36mload_inference_source\u001b[1;34m(source, batch, vid_stride, buffer)\u001b[0m\n\u001b[0;32m    251\u001b[0m     dataset \u001b[38;5;241m=\u001b[39m LoadPilAndNumpy(source)\n\u001b[0;32m    252\u001b[0m \u001b[38;5;28;01melse\u001b[39;00m:\n\u001b[1;32m--> 253\u001b[0m     dataset \u001b[38;5;241m=\u001b[39m \u001b[43mLoadImagesAndVideos\u001b[49m\u001b[43m(\u001b[49m\u001b[43msource\u001b[49m\u001b[43m,\u001b[49m\u001b[43m \u001b[49m\u001b[43mbatch\u001b[49m\u001b[38;5;241;43m=\u001b[39;49m\u001b[43mbatch\u001b[49m\u001b[43m,\u001b[49m\u001b[43m \u001b[49m\u001b[43mvid_stride\u001b[49m\u001b[38;5;241;43m=\u001b[39;49m\u001b[43mvid_stride\u001b[49m\u001b[43m)\u001b[49m\n\u001b[0;32m    255\u001b[0m \u001b[38;5;66;03m# Attach source types to the dataset\u001b[39;00m\n\u001b[0;32m    256\u001b[0m \u001b[38;5;28msetattr\u001b[39m(dataset, \u001b[38;5;124m\"\u001b[39m\u001b[38;5;124msource_type\u001b[39m\u001b[38;5;124m\"\u001b[39m, source_type)\n",
      "File \u001b[1;32m~\\anaconda3\\envs\\jupyterlab\\lib\\site-packages\\ultralytics\\data\\loaders.py:342\u001b[0m, in \u001b[0;36mLoadImagesAndVideos.__init__\u001b[1;34m(self, path, batch, vid_stride)\u001b[0m\n\u001b[0;32m    340\u001b[0m         files\u001b[38;5;241m.\u001b[39mappend(\u001b[38;5;28mstr\u001b[39m((parent \u001b[38;5;241m/\u001b[39m p)\u001b[38;5;241m.\u001b[39mabsolute()))  \u001b[38;5;66;03m# files (relative to *.txt file parent)\u001b[39;00m\n\u001b[0;32m    341\u001b[0m     \u001b[38;5;28;01melse\u001b[39;00m:\n\u001b[1;32m--> 342\u001b[0m         \u001b[38;5;28;01mraise\u001b[39;00m \u001b[38;5;167;01mFileNotFoundError\u001b[39;00m(\u001b[38;5;124mf\u001b[39m\u001b[38;5;124m\"\u001b[39m\u001b[38;5;132;01m{\u001b[39;00mp\u001b[38;5;132;01m}\u001b[39;00m\u001b[38;5;124m does not exist\u001b[39m\u001b[38;5;124m\"\u001b[39m)\n\u001b[0;32m    344\u001b[0m \u001b[38;5;66;03m# Define files as images or videos\u001b[39;00m\n\u001b[0;32m    345\u001b[0m images, videos \u001b[38;5;241m=\u001b[39m [], []\n",
      "\u001b[1;31mFileNotFoundError\u001b[0m: path/to/image.jpg does not exist"
     ]
    }
   ],
   "source": [
    "from ultralytics import YOLO\n",
    "\n",
    "model = YOLO('yolov8n.onnx')  # Notice: now loading the exported ONNX model\n",
    "\n",
    "# Predict on image\n",
    "results = model.predict(source='path/to/image.jpg', imgsz=640, conf=0.25)\n",
    "\n",
    "# Show the result\n",
    "results[0].show()\n"
   ]
  },
  {
   "cell_type": "code",
   "execution_count": null,
   "id": "1b9a687d-be2f-4531-9b36-f29d7a92f69f",
   "metadata": {},
   "outputs": [
    {
     "name": "stdout",
     "output_type": "stream",
     "text": [
      "Downloading https://github.com/ultralytics/assets/releases/download/v8.3.0/yolov8n.pt to 'yolov8n.pt'...\n"
     ]
    },
    {
     "name": "stderr",
     "output_type": "stream",
     "text": [
      "100%|█████████████████████████████████████████████████████████████████████████████| 6.25M/6.25M [00:00<00:00, 9.34MB/s]\n"
     ]
    },
    {
     "name": "stdout",
     "output_type": "stream",
     "text": [
      "New https://pypi.org/project/ultralytics/8.3.117 available  Update with 'pip install -U ultralytics'\n",
      "Ultralytics 8.3.110  Python-3.9.21 torch-2.4.1+cpu CPU (AMD Ryzen 9 6900HS with Radeon Graphics)\n",
      "\u001b[34m\u001b[1mengine\\trainer: \u001b[0mtask=detect, mode=train, model=yolov8n.pt, data=D:\\Projects\\CDS\\Capstone Project\\UECFOOD100\\processed_for_yolo\\dataset.yaml, epochs=50, time=None, patience=20, batch=16, imgsz=640, save=True, save_period=-1, cache=False, device=None, workers=4, project=None, name=V0_uecfood100_yolov8_test2, exist_ok=False, pretrained=True, optimizer=SGD, verbose=True, seed=0, deterministic=True, single_cls=False, rect=False, cos_lr=False, close_mosaic=10, resume=False, amp=True, fraction=1.0, profile=False, freeze=None, multi_scale=False, overlap_mask=True, mask_ratio=4, dropout=0.0, val=True, split=val, save_json=False, conf=None, iou=0.7, max_det=300, half=False, dnn=False, plots=True, source=None, vid_stride=1, stream_buffer=False, visualize=False, augment=False, agnostic_nms=False, classes=None, retina_masks=False, embed=None, show=False, save_frames=False, save_txt=False, save_conf=False, save_crop=False, show_labels=True, show_conf=True, show_boxes=True, line_width=None, format=torchscript, keras=False, optimize=False, int8=False, dynamic=False, simplify=True, opset=None, workspace=None, nms=False, lr0=0.01, lrf=0.01, momentum=0.937, weight_decay=0.0005, warmup_epochs=3.0, warmup_momentum=0.8, warmup_bias_lr=0.1, box=7.5, cls=0.5, dfl=1.5, pose=12.0, kobj=1.0, nbs=64, hsv_h=0.015, hsv_s=0.7, hsv_v=0.4, degrees=0.0, translate=0.1, scale=0.5, shear=0.0, perspective=0.0, flipud=0.0, fliplr=0.5, bgr=0.0, mosaic=1.0, mixup=0.0, copy_paste=0.0, copy_paste_mode=flip, auto_augment=randaugment, erasing=0.4, cfg=None, tracker=botsort.yaml, save_dir=runs\\detect\\V0_uecfood100_yolov8_test2\n",
      "Overriding model.yaml nc=80 with nc=100\n",
      "\n",
      "                   from  n    params  module                                       arguments                     \n",
      "  0                  -1  1       464  ultralytics.nn.modules.conv.Conv             [3, 16, 3, 2]                 \n",
      "  1                  -1  1      4672  ultralytics.nn.modules.conv.Conv             [16, 32, 3, 2]                \n",
      "  2                  -1  1      7360  ultralytics.nn.modules.block.C2f             [32, 32, 1, True]             \n",
      "  3                  -1  1     18560  ultralytics.nn.modules.conv.Conv             [32, 64, 3, 2]                \n",
      "  4                  -1  2     49664  ultralytics.nn.modules.block.C2f             [64, 64, 2, True]             \n",
      "  5                  -1  1     73984  ultralytics.nn.modules.conv.Conv             [64, 128, 3, 2]               \n",
      "  6                  -1  2    197632  ultralytics.nn.modules.block.C2f             [128, 128, 2, True]           \n",
      "  7                  -1  1    295424  ultralytics.nn.modules.conv.Conv             [128, 256, 3, 2]              \n",
      "  8                  -1  1    460288  ultralytics.nn.modules.block.C2f             [256, 256, 1, True]           \n",
      "  9                  -1  1    164608  ultralytics.nn.modules.block.SPPF            [256, 256, 5]                 \n",
      " 10                  -1  1         0  torch.nn.modules.upsampling.Upsample         [None, 2, 'nearest']          \n",
      " 11             [-1, 6]  1         0  ultralytics.nn.modules.conv.Concat           [1]                           \n",
      " 12                  -1  1    148224  ultralytics.nn.modules.block.C2f             [384, 128, 1]                 \n",
      " 13                  -1  1         0  torch.nn.modules.upsampling.Upsample         [None, 2, 'nearest']          \n",
      " 14             [-1, 4]  1         0  ultralytics.nn.modules.conv.Concat           [1]                           \n",
      " 15                  -1  1     37248  ultralytics.nn.modules.block.C2f             [192, 64, 1]                  \n",
      " 16                  -1  1     36992  ultralytics.nn.modules.conv.Conv             [64, 64, 3, 2]                \n",
      " 17            [-1, 12]  1         0  ultralytics.nn.modules.conv.Concat           [1]                           \n",
      " 18                  -1  1    123648  ultralytics.nn.modules.block.C2f             [192, 128, 1]                 \n",
      " 19                  -1  1    147712  ultralytics.nn.modules.conv.Conv             [128, 128, 3, 2]              \n",
      " 20             [-1, 9]  1         0  ultralytics.nn.modules.conv.Concat           [1]                           \n",
      " 21                  -1  1    493056  ultralytics.nn.modules.block.C2f             [384, 256, 1]                 \n",
      " 22        [15, 18, 21]  1   1086604  ultralytics.nn.modules.head.Detect           [100, [64, 128, 256]]         \n",
      "Model summary: 129 layers, 3,346,140 parameters, 3,346,124 gradients, 9.7 GFLOPs\n",
      "\n",
      "Transferred 319/355 items from pretrained weights\n",
      "Freezing layer 'model.22.dfl.conv.weight'\n",
      "\u001b[34m\u001b[1mtrain: \u001b[0mFast image access  (ping: 0.10.0 ms, read: 258.2131.4 MB/s, size: 34.5 KB)\n"
     ]
    },
    {
     "name": "stderr",
     "output_type": "stream",
     "text": [
      "\u001b[34m\u001b[1mtrain: \u001b[0mScanning D:\\Projects\\CDS\\Capstone Project\\UECFOOD100\\processed_for_yolo\\train\\labels.cache... 10405 images, 0 ba\u001b[0m"
     ]
    },
    {
     "name": "stdout",
     "output_type": "stream",
     "text": [
      "\u001b[34m\u001b[1mtrain: \u001b[0mWARNING  D:\\Projects\\CDS\\Capstone Project\\UECFOOD100\\processed_for_yolo\\train\\images\\10787.jpg: ignoring corrupt image/label: non-normalized or out of bounds coordinates [     1.5655]\n",
      "\u001b[34m\u001b[1mtrain: \u001b[0mWARNING  D:\\Projects\\CDS\\Capstone Project\\UECFOOD100\\processed_for_yolo\\train\\images\\10866.jpg: ignoring corrupt image/label: non-normalized or out of bounds coordinates [     1.2833]\n",
      "\u001b[34m\u001b[1mtrain: \u001b[0mWARNING  D:\\Projects\\CDS\\Capstone Project\\UECFOOD100\\processed_for_yolo\\train\\images\\10871.jpg: ignoring corrupt image/label: non-normalized or out of bounds coordinates [      1.325]\n",
      "\u001b[34m\u001b[1mtrain: \u001b[0mWARNING  D:\\Projects\\CDS\\Capstone Project\\UECFOOD100\\processed_for_yolo\\train\\images\\10873.jpg: ignoring corrupt image/label: non-normalized or out of bounds coordinates [     1.2361]\n",
      "\u001b[34m\u001b[1mtrain: \u001b[0mWARNING  D:\\Projects\\CDS\\Capstone Project\\UECFOOD100\\processed_for_yolo\\train\\images\\10880.jpg: ignoring corrupt image/label: non-normalized or out of bounds coordinates [     1.0833]\n",
      "\u001b[34m\u001b[1mtrain: \u001b[0mWARNING  D:\\Projects\\CDS\\Capstone Project\\UECFOOD100\\processed_for_yolo\\train\\images\\10886.jpg: ignoring corrupt image/label: non-normalized or out of bounds coordinates [        1.3]\n",
      "\u001b[34m\u001b[1mtrain: \u001b[0mWARNING  D:\\Projects\\CDS\\Capstone Project\\UECFOOD100\\processed_for_yolo\\train\\images\\10947.jpg: ignoring corrupt image/label: non-normalized or out of bounds coordinates [     1.3333]\n",
      "\u001b[34m\u001b[1mtrain: \u001b[0mWARNING  D:\\Projects\\CDS\\Capstone Project\\UECFOOD100\\processed_for_yolo\\train\\images\\10948.jpg: ignoring corrupt image/label: non-normalized or out of bounds coordinates [     1.2917]\n",
      "\u001b[34m\u001b[1mtrain: \u001b[0mWARNING  D:\\Projects\\CDS\\Capstone Project\\UECFOOD100\\processed_for_yolo\\train\\images\\11108.jpg: ignoring corrupt image/label: non-normalized or out of bounds coordinates [     1.3333]\n",
      "\u001b[34m\u001b[1mtrain: \u001b[0mWARNING  D:\\Projects\\CDS\\Capstone Project\\UECFOOD100\\processed_for_yolo\\train\\images\\11109.jpg: ignoring corrupt image/label: non-normalized or out of bounds coordinates [     1.3194]\n",
      "\u001b[34m\u001b[1mtrain: \u001b[0mWARNING  D:\\Projects\\CDS\\Capstone Project\\UECFOOD100\\processed_for_yolo\\train\\images\\11170.jpg: ignoring corrupt image/label: non-normalized or out of bounds coordinates [     1.2778]\n",
      "\u001b[34m\u001b[1mtrain: \u001b[0mWARNING  D:\\Projects\\CDS\\Capstone Project\\UECFOOD100\\processed_for_yolo\\train\\images\\11191.jpg: ignoring corrupt image/label: non-normalized or out of bounds coordinates [     1.2778]\n",
      "\u001b[34m\u001b[1mtrain: \u001b[0mWARNING  D:\\Projects\\CDS\\Capstone Project\\UECFOOD100\\processed_for_yolo\\train\\images\\11236.jpg: ignoring corrupt image/label: non-normalized or out of bounds coordinates [     1.2806]\n",
      "\u001b[34m\u001b[1mtrain: \u001b[0mWARNING  D:\\Projects\\CDS\\Capstone Project\\UECFOOD100\\processed_for_yolo\\train\\images\\11241.jpg: ignoring corrupt image/label: non-normalized or out of bounds coordinates [     1.0528]\n",
      "\u001b[34m\u001b[1mtrain: \u001b[0mWARNING  D:\\Projects\\CDS\\Capstone Project\\UECFOOD100\\processed_for_yolo\\train\\images\\11244.jpg: ignoring corrupt image/label: non-normalized or out of bounds coordinates [     1.0583]\n",
      "\u001b[34m\u001b[1mtrain: \u001b[0mWARNING  D:\\Projects\\CDS\\Capstone Project\\UECFOOD100\\processed_for_yolo\\train\\images\\11435.jpg: ignoring corrupt image/label: non-normalized or out of bounds coordinates [     1.0056      1.5444]\n",
      "\u001b[34m\u001b[1mtrain: \u001b[0mWARNING  D:\\Projects\\CDS\\Capstone Project\\UECFOOD100\\processed_for_yolo\\train\\images\\11437.jpg: ignoring corrupt image/label: non-normalized or out of bounds coordinates [     1.7704]\n",
      "\u001b[34m\u001b[1mtrain: \u001b[0mWARNING  D:\\Projects\\CDS\\Capstone Project\\UECFOOD100\\processed_for_yolo\\train\\images\\11439.jpg: ignoring corrupt image/label: non-normalized or out of bounds coordinates [     1.5556]\n",
      "\u001b[34m\u001b[1mtrain: \u001b[0mWARNING  D:\\Projects\\CDS\\Capstone Project\\UECFOOD100\\processed_for_yolo\\train\\images\\11783.jpg: corrupt JPEG restored and saved\n",
      "\u001b[34m\u001b[1mtrain: \u001b[0mWARNING  D:\\Projects\\CDS\\Capstone Project\\UECFOOD100\\processed_for_yolo\\train\\images\\11784.jpg: corrupt JPEG restored and saved\n",
      "\u001b[34m\u001b[1mtrain: \u001b[0mWARNING  D:\\Projects\\CDS\\Capstone Project\\UECFOOD100\\processed_for_yolo\\train\\images\\11789.jpg: corrupt JPEG restored and saved\n",
      "\u001b[34m\u001b[1mtrain: \u001b[0mWARNING  D:\\Projects\\CDS\\Capstone Project\\UECFOOD100\\processed_for_yolo\\train\\images\\12064.jpg: ignoring corrupt image/label: non-normalized or out of bounds coordinates [      1.205]\n",
      "\u001b[34m\u001b[1mtrain: \u001b[0mWARNING  D:\\Projects\\CDS\\Capstone Project\\UECFOOD100\\processed_for_yolo\\train\\images\\12078.jpg: corrupt JPEG restored and saved\n",
      "\u001b[34m\u001b[1mtrain: \u001b[0mWARNING  D:\\Projects\\CDS\\Capstone Project\\UECFOOD100\\processed_for_yolo\\train\\images\\12476.jpg: ignoring corrupt image/label: non-normalized or out of bounds coordinates [     1.0458]\n",
      "\u001b[34m\u001b[1mtrain: \u001b[0mWARNING  D:\\Projects\\CDS\\Capstone Project\\UECFOOD100\\processed_for_yolo\\train\\images\\12699.jpg: corrupt JPEG restored and saved\n",
      "\u001b[34m\u001b[1mtrain: \u001b[0mWARNING  D:\\Projects\\CDS\\Capstone Project\\UECFOOD100\\processed_for_yolo\\train\\images\\12716.jpg: corrupt JPEG restored and saved\n",
      "\u001b[34m\u001b[1mtrain: \u001b[0mWARNING  D:\\Projects\\CDS\\Capstone Project\\UECFOOD100\\processed_for_yolo\\train\\images\\12746.jpg: ignoring corrupt image/label: non-normalized or out of bounds coordinates [     1.0567]\n",
      "\u001b[34m\u001b[1mtrain: \u001b[0mWARNING  D:\\Projects\\CDS\\Capstone Project\\UECFOOD100\\processed_for_yolo\\train\\images\\12767.jpg: ignoring corrupt image/label: non-normalized or out of bounds coordinates [     1.3333]\n",
      "\u001b[34m\u001b[1mtrain: \u001b[0mWARNING  D:\\Projects\\CDS\\Capstone Project\\UECFOOD100\\processed_for_yolo\\train\\images\\12776.jpg: ignoring corrupt image/label: non-normalized or out of bounds coordinates [     1.3118]\n",
      "\u001b[34m\u001b[1mtrain: \u001b[0mWARNING  D:\\Projects\\CDS\\Capstone Project\\UECFOOD100\\processed_for_yolo\\train\\images\\13337.jpg: ignoring corrupt image/label: non-normalized or out of bounds coordinates [     1.4708]\n",
      "\u001b[34m\u001b[1mtrain: \u001b[0mWARNING  D:\\Projects\\CDS\\Capstone Project\\UECFOOD100\\processed_for_yolo\\train\\images\\13645.jpg: ignoring corrupt image/label: non-normalized or out of bounds coordinates [     1.2133]\n",
      "\u001b[34m\u001b[1mtrain: \u001b[0mWARNING  D:\\Projects\\CDS\\Capstone Project\\UECFOOD100\\processed_for_yolo\\train\\images\\1458.jpg: ignoring corrupt image/label: non-normalized or out of bounds coordinates [     1.3333]\n",
      "\u001b[34m\u001b[1mtrain: \u001b[0mWARNING  D:\\Projects\\CDS\\Capstone Project\\UECFOOD100\\processed_for_yolo\\train\\images\\14626.jpg: ignoring corrupt image/label: non-normalized or out of bounds coordinates [     1.0625]\n",
      "\u001b[34m\u001b[1mtrain: \u001b[0mWARNING  D:\\Projects\\CDS\\Capstone Project\\UECFOOD100\\processed_for_yolo\\train\\images\\14885.jpg: ignoring corrupt image/label: non-normalized or out of bounds coordinates [     1.1079]\n",
      "\u001b[34m\u001b[1mtrain: \u001b[0mWARNING  D:\\Projects\\CDS\\Capstone Project\\UECFOOD100\\processed_for_yolo\\train\\images\\1503.jpg: corrupt JPEG restored and saved\n",
      "\u001b[34m\u001b[1mtrain: \u001b[0mWARNING  D:\\Projects\\CDS\\Capstone Project\\UECFOOD100\\processed_for_yolo\\train\\images\\1517.jpg: ignoring corrupt image/label: non-normalized or out of bounds coordinates [     1.0792]\n",
      "\u001b[34m\u001b[1mtrain: \u001b[0mWARNING  D:\\Projects\\CDS\\Capstone Project\\UECFOOD100\\processed_for_yolo\\train\\images\\1518.jpg: ignoring corrupt image/label: non-normalized or out of bounds coordinates [     1.1229]\n",
      "\u001b[34m\u001b[1mtrain: \u001b[0mWARNING  D:\\Projects\\CDS\\Capstone Project\\UECFOOD100\\processed_for_yolo\\train\\images\\15216.jpg: ignoring corrupt image/label: non-normalized or out of bounds coordinates [     1.0033]\n",
      "\u001b[34m\u001b[1mtrain: \u001b[0mWARNING  D:\\Projects\\CDS\\Capstone Project\\UECFOOD100\\processed_for_yolo\\train\\images\\15262.jpg: ignoring corrupt image/label: non-normalized or out of bounds coordinates [     1.2542]\n",
      "\u001b[34m\u001b[1mtrain: \u001b[0mWARNING  D:\\Projects\\CDS\\Capstone Project\\UECFOOD100\\processed_for_yolo\\train\\images\\1581.jpg: corrupt JPEG restored and saved\n",
      "\u001b[34m\u001b[1mtrain: \u001b[0mWARNING  D:\\Projects\\CDS\\Capstone Project\\UECFOOD100\\processed_for_yolo\\train\\images\\1585.jpg: corrupt JPEG restored and saved\n",
      "\u001b[34m\u001b[1mtrain: \u001b[0mWARNING  D:\\Projects\\CDS\\Capstone Project\\UECFOOD100\\processed_for_yolo\\train\\images\\2338.jpg: ignoring corrupt image/label: non-normalized or out of bounds coordinates [     1.0583]\n",
      "\u001b[34m\u001b[1mtrain: \u001b[0mWARNING  D:\\Projects\\CDS\\Capstone Project\\UECFOOD100\\processed_for_yolo\\train\\images\\2486.jpg: ignoring corrupt image/label: non-normalized or out of bounds coordinates [     1.1883]\n",
      "\u001b[34m\u001b[1mtrain: \u001b[0mWARNING  D:\\Projects\\CDS\\Capstone Project\\UECFOOD100\\processed_for_yolo\\train\\images\\2891.jpg: ignoring corrupt image/label: non-normalized or out of bounds coordinates [     1.2012]\n",
      "\u001b[34m\u001b[1mtrain: \u001b[0mWARNING  D:\\Projects\\CDS\\Capstone Project\\UECFOOD100\\processed_for_yolo\\train\\images\\297.jpg: ignoring corrupt image/label: non-normalized or out of bounds coordinates [       1.07]\n",
      "\u001b[34m\u001b[1mtrain: \u001b[0mWARNING  D:\\Projects\\CDS\\Capstone Project\\UECFOOD100\\processed_for_yolo\\train\\images\\3199.jpg: ignoring corrupt image/label: non-normalized or out of bounds coordinates [     1.3333]\n",
      "\u001b[34m\u001b[1mtrain: \u001b[0mWARNING  D:\\Projects\\CDS\\Capstone Project\\UECFOOD100\\processed_for_yolo\\train\\images\\3394.jpg: corrupt JPEG restored and saved\n",
      "\u001b[34m\u001b[1mtrain: \u001b[0mWARNING  D:\\Projects\\CDS\\Capstone Project\\UECFOOD100\\processed_for_yolo\\train\\images\\3472.jpg: corrupt JPEG restored and saved\n",
      "\u001b[34m\u001b[1mtrain: \u001b[0mWARNING  D:\\Projects\\CDS\\Capstone Project\\UECFOOD100\\processed_for_yolo\\train\\images\\4232.jpg: corrupt JPEG restored and saved\n",
      "\u001b[34m\u001b[1mtrain: \u001b[0mWARNING  D:\\Projects\\CDS\\Capstone Project\\UECFOOD100\\processed_for_yolo\\train\\images\\4334.jpg: corrupt JPEG restored and saved\n",
      "\u001b[34m\u001b[1mtrain: \u001b[0mWARNING  D:\\Projects\\CDS\\Capstone Project\\UECFOOD100\\processed_for_yolo\\train\\images\\4440.jpg: corrupt JPEG restored and saved\n",
      "\u001b[34m\u001b[1mtrain: \u001b[0mWARNING  D:\\Projects\\CDS\\Capstone Project\\UECFOOD100\\processed_for_yolo\\train\\images\\4646.jpg: ignoring corrupt image/label: non-normalized or out of bounds coordinates [     1.0188]\n",
      "\u001b[34m\u001b[1mtrain: \u001b[0mWARNING  D:\\Projects\\CDS\\Capstone Project\\UECFOOD100\\processed_for_yolo\\train\\images\\4811.jpg: ignoring corrupt image/label: non-normalized or out of bounds coordinates [     1.3229]\n",
      "\u001b[34m\u001b[1mtrain: \u001b[0mWARNING  D:\\Projects\\CDS\\Capstone Project\\UECFOOD100\\processed_for_yolo\\train\\images\\4922.jpg: ignoring corrupt image/label: non-normalized or out of bounds coordinates [     1.0769]\n",
      "\u001b[34m\u001b[1mtrain: \u001b[0mWARNING  D:\\Projects\\CDS\\Capstone Project\\UECFOOD100\\processed_for_yolo\\train\\images\\5004.jpg: ignoring corrupt image/label: non-normalized or out of bounds coordinates [     1.0417]\n",
      "\u001b[34m\u001b[1mtrain: \u001b[0mWARNING  D:\\Projects\\CDS\\Capstone Project\\UECFOOD100\\processed_for_yolo\\train\\images\\5171.jpg: corrupt JPEG restored and saved\n",
      "\u001b[34m\u001b[1mtrain: \u001b[0mWARNING  D:\\Projects\\CDS\\Capstone Project\\UECFOOD100\\processed_for_yolo\\train\\images\\5251.jpg: corrupt JPEG restored and saved\n",
      "\u001b[34m\u001b[1mtrain: \u001b[0mWARNING  D:\\Projects\\CDS\\Capstone Project\\UECFOOD100\\processed_for_yolo\\train\\images\\5810.jpg: ignoring corrupt image/label: non-normalized or out of bounds coordinates [     1.3167]\n",
      "\u001b[34m\u001b[1mtrain: \u001b[0mWARNING  D:\\Projects\\CDS\\Capstone Project\\UECFOOD100\\processed_for_yolo\\train\\images\\5854.jpg: corrupt JPEG restored and saved\n",
      "\u001b[34m\u001b[1mtrain: \u001b[0mWARNING  D:\\Projects\\CDS\\Capstone Project\\UECFOOD100\\processed_for_yolo\\train\\images\\6283.jpg: ignoring corrupt image/label: non-normalized or out of bounds coordinates [     1.0604]\n",
      "\u001b[34m\u001b[1mtrain: \u001b[0mWARNING  D:\\Projects\\CDS\\Capstone Project\\UECFOOD100\\processed_for_yolo\\train\\images\\716.jpg: ignoring corrupt image/label: non-normalized or out of bounds coordinates [     1.0438]\n",
      "\u001b[34m\u001b[1mtrain: \u001b[0mWARNING  D:\\Projects\\CDS\\Capstone Project\\UECFOOD100\\processed_for_yolo\\train\\images\\7786.jpg: corrupt JPEG restored and saved\n",
      "\u001b[34m\u001b[1mtrain: \u001b[0mWARNING  D:\\Projects\\CDS\\Capstone Project\\UECFOOD100\\processed_for_yolo\\train\\images\\81.jpg: corrupt JPEG restored and saved\n",
      "\u001b[34m\u001b[1mtrain: \u001b[0mWARNING  D:\\Projects\\CDS\\Capstone Project\\UECFOOD100\\processed_for_yolo\\train\\images\\8101.jpg: ignoring corrupt image/label: non-normalized or out of bounds coordinates [     1.0921]\n",
      "\u001b[34m\u001b[1mtrain: \u001b[0mWARNING  D:\\Projects\\CDS\\Capstone Project\\UECFOOD100\\processed_for_yolo\\train\\images\\82.jpg: corrupt JPEG restored and saved\n",
      "\u001b[34m\u001b[1mtrain: \u001b[0mWARNING  D:\\Projects\\CDS\\Capstone Project\\UECFOOD100\\processed_for_yolo\\train\\images\\83.jpg: corrupt JPEG restored and saved\n",
      "\u001b[34m\u001b[1mtrain: \u001b[0mWARNING  D:\\Projects\\CDS\\Capstone Project\\UECFOOD100\\processed_for_yolo\\train\\images\\84.jpg: corrupt JPEG restored and saved\n",
      "\u001b[34m\u001b[1mtrain: \u001b[0mWARNING  D:\\Projects\\CDS\\Capstone Project\\UECFOOD100\\processed_for_yolo\\train\\images\\8421.jpg: ignoring corrupt image/label: non-normalized or out of bounds coordinates [     1.3333]\n",
      "\u001b[34m\u001b[1mtrain: \u001b[0mWARNING  D:\\Projects\\CDS\\Capstone Project\\UECFOOD100\\processed_for_yolo\\train\\images\\85.jpg: corrupt JPEG restored and saved\n",
      "\u001b[34m\u001b[1mtrain: \u001b[0mWARNING  D:\\Projects\\CDS\\Capstone Project\\UECFOOD100\\processed_for_yolo\\train\\images\\8560.jpg: corrupt JPEG restored and saved\n",
      "\u001b[34m\u001b[1mtrain: \u001b[0mWARNING  D:\\Projects\\CDS\\Capstone Project\\UECFOOD100\\processed_for_yolo\\train\\images\\86.jpg: corrupt JPEG restored and saved\n",
      "\u001b[34m\u001b[1mtrain: \u001b[0mWARNING  D:\\Projects\\CDS\\Capstone Project\\UECFOOD100\\processed_for_yolo\\train\\images\\8633.jpg: corrupt JPEG restored and saved\n",
      "\u001b[34m\u001b[1mtrain: \u001b[0mWARNING  D:\\Projects\\CDS\\Capstone Project\\UECFOOD100\\processed_for_yolo\\train\\images\\87.jpg: corrupt JPEG restored and saved\n",
      "\u001b[34m\u001b[1mtrain: \u001b[0mWARNING  D:\\Projects\\CDS\\Capstone Project\\UECFOOD100\\processed_for_yolo\\train\\images\\8780.jpg: ignoring corrupt image/label: non-normalized or out of bounds coordinates [     1.1392]\n",
      "\u001b[34m\u001b[1mtrain: \u001b[0mWARNING  D:\\Projects\\CDS\\Capstone Project\\UECFOOD100\\processed_for_yolo\\train\\images\\9194.jpg: ignoring corrupt image/label: non-normalized or out of bounds coordinates [     1.2444]\n",
      "\u001b[34m\u001b[1mtrain: \u001b[0mWARNING  D:\\Projects\\CDS\\Capstone Project\\UECFOOD100\\processed_for_yolo\\train\\images\\920.jpg: ignoring corrupt image/label: non-normalized or out of bounds coordinates [     1.0417]\n",
      "\u001b[34m\u001b[1mtrain: \u001b[0mWARNING  D:\\Projects\\CDS\\Capstone Project\\UECFOOD100\\processed_for_yolo\\train\\images\\9203.jpg: ignoring corrupt image/label: non-normalized or out of bounds coordinates [     1.2697]\n",
      "\u001b[34m\u001b[1mtrain: \u001b[0mWARNING  D:\\Projects\\CDS\\Capstone Project\\UECFOOD100\\processed_for_yolo\\train\\images\\9253.jpg: ignoring corrupt image/label: non-normalized or out of bounds coordinates [     1.5955]\n",
      "\u001b[34m\u001b[1mtrain: \u001b[0mWARNING  D:\\Projects\\CDS\\Capstone Project\\UECFOOD100\\processed_for_yolo\\train\\images\\9274.jpg: ignoring corrupt image/label: non-normalized or out of bounds coordinates [     1.1124]\n",
      "\u001b[34m\u001b[1mtrain: \u001b[0mWARNING  D:\\Projects\\CDS\\Capstone Project\\UECFOOD100\\processed_for_yolo\\train\\images\\9278.jpg: ignoring corrupt image/label: non-normalized or out of bounds coordinates [     1.0225]\n",
      "\u001b[34m\u001b[1mtrain: \u001b[0mWARNING  D:\\Projects\\CDS\\Capstone Project\\UECFOOD100\\processed_for_yolo\\train\\images\\9279.jpg: ignoring corrupt image/label: non-normalized or out of bounds coordinates [      1.191]\n",
      "\u001b[34m\u001b[1mtrain: \u001b[0mWARNING  D:\\Projects\\CDS\\Capstone Project\\UECFOOD100\\processed_for_yolo\\train\\images\\9281.jpg: ignoring corrupt image/label: non-normalized or out of bounds coordinates [     1.4981]\n",
      "\u001b[34m\u001b[1mtrain: \u001b[0mWARNING  D:\\Projects\\CDS\\Capstone Project\\UECFOOD100\\processed_for_yolo\\train\\images\\9362.jpg: ignoring corrupt image/label: non-normalized or out of bounds coordinates [     1.1556]\n",
      "\u001b[34m\u001b[1mtrain: \u001b[0mWARNING  D:\\Projects\\CDS\\Capstone Project\\UECFOOD100\\processed_for_yolo\\train\\images\\98.jpg: corrupt JPEG restored and saved\n",
      "\u001b[34m\u001b[1mtrain: \u001b[0mWARNING  D:\\Projects\\CDS\\Capstone Project\\UECFOOD100\\processed_for_yolo\\train\\images\\99.jpg: corrupt JPEG restored and saved\n"
     ]
    },
    {
     "name": "stderr",
     "output_type": "stream",
     "text": [
      "\n"
     ]
    },
    {
     "name": "stdout",
     "output_type": "stream",
     "text": [
      "\u001b[34m\u001b[1mval: \u001b[0mFast image access  (ping: 0.10.0 ms, read: 395.6326.0 MB/s, size: 78.3 KB)\n"
     ]
    },
    {
     "name": "stderr",
     "output_type": "stream",
     "text": [
      "\u001b[34m\u001b[1mval: \u001b[0mScanning D:\\Projects\\CDS\\Capstone Project\\UECFOOD100\\processed_for_yolo\\val\\labels.cache... 2824 images, 0 backgro\u001b[0m"
     ]
    },
    {
     "name": "stdout",
     "output_type": "stream",
     "text": [
      "\u001b[34m\u001b[1mval: \u001b[0mWARNING  D:\\Projects\\CDS\\Capstone Project\\UECFOOD100\\processed_for_yolo\\val\\images\\10770.jpg: ignoring corrupt image/label: non-normalized or out of bounds coordinates [     1.3933]\n",
      "\u001b[34m\u001b[1mval: \u001b[0mWARNING  D:\\Projects\\CDS\\Capstone Project\\UECFOOD100\\processed_for_yolo\\val\\images\\10784.jpg: ignoring corrupt image/label: non-normalized or out of bounds coordinates [     1.4045]\n",
      "\u001b[34m\u001b[1mval: \u001b[0mWARNING  D:\\Projects\\CDS\\Capstone Project\\UECFOOD100\\processed_for_yolo\\val\\images\\10870.jpg: ignoring corrupt image/label: non-normalized or out of bounds coordinates [     1.1972]\n",
      "\u001b[34m\u001b[1mval: \u001b[0mWARNING  D:\\Projects\\CDS\\Capstone Project\\UECFOOD100\\processed_for_yolo\\val\\images\\11227.jpg: ignoring corrupt image/label: non-normalized or out of bounds coordinates [     1.3278]\n",
      "\u001b[34m\u001b[1mval: \u001b[0mWARNING  D:\\Projects\\CDS\\Capstone Project\\UECFOOD100\\processed_for_yolo\\val\\images\\11440.jpg: ignoring corrupt image/label: non-normalized or out of bounds coordinates [     1.1444]\n",
      "\u001b[34m\u001b[1mval: \u001b[0mWARNING  D:\\Projects\\CDS\\Capstone Project\\UECFOOD100\\processed_for_yolo\\val\\images\\12291.jpg: corrupt JPEG restored and saved\n",
      "\u001b[34m\u001b[1mval: \u001b[0mWARNING  D:\\Projects\\CDS\\Capstone Project\\UECFOOD100\\processed_for_yolo\\val\\images\\2890.jpg: ignoring corrupt image/label: non-normalized or out of bounds coordinates [     1.2012]\n",
      "\u001b[34m\u001b[1mval: \u001b[0mWARNING  D:\\Projects\\CDS\\Capstone Project\\UECFOOD100\\processed_for_yolo\\val\\images\\2902.jpg: corrupt JPEG restored and saved\n",
      "\u001b[34m\u001b[1mval: \u001b[0mWARNING  D:\\Projects\\CDS\\Capstone Project\\UECFOOD100\\processed_for_yolo\\val\\images\\4212.jpg: corrupt JPEG restored and saved\n",
      "\u001b[34m\u001b[1mval: \u001b[0mWARNING  D:\\Projects\\CDS\\Capstone Project\\UECFOOD100\\processed_for_yolo\\val\\images\\5437.jpg: ignoring corrupt image/label: non-normalized or out of bounds coordinates [     1.1994]\n",
      "\u001b[34m\u001b[1mval: \u001b[0mWARNING  D:\\Projects\\CDS\\Capstone Project\\UECFOOD100\\processed_for_yolo\\val\\images\\6282.jpg: ignoring corrupt image/label: non-normalized or out of bounds coordinates [     1.6377]\n",
      "\u001b[34m\u001b[1mval: \u001b[0mWARNING  D:\\Projects\\CDS\\Capstone Project\\UECFOOD100\\processed_for_yolo\\val\\images\\7304.jpg: ignoring corrupt image/label: non-normalized or out of bounds coordinates [      1.115]\n",
      "\u001b[34m\u001b[1mval: \u001b[0mWARNING  D:\\Projects\\CDS\\Capstone Project\\UECFOOD100\\processed_for_yolo\\val\\images\\8677.jpg: corrupt JPEG restored and saved\n",
      "\u001b[34m\u001b[1mval: \u001b[0mWARNING  D:\\Projects\\CDS\\Capstone Project\\UECFOOD100\\processed_for_yolo\\val\\images\\87.jpg: corrupt JPEG restored and saved\n",
      "\u001b[34m\u001b[1mval: \u001b[0mWARNING  D:\\Projects\\CDS\\Capstone Project\\UECFOOD100\\processed_for_yolo\\val\\images\\9034.jpg: ignoring corrupt image/label: non-normalized or out of bounds coordinates [     1.1833]\n",
      "\u001b[34m\u001b[1mval: \u001b[0mWARNING  D:\\Projects\\CDS\\Capstone Project\\UECFOOD100\\processed_for_yolo\\val\\images\\9263.jpg: ignoring corrupt image/label: non-normalized or out of bounds coordinates [     1.1386]\n"
     ]
    },
    {
     "name": "stderr",
     "output_type": "stream",
     "text": [
      "\n"
     ]
    },
    {
     "name": "stdout",
     "output_type": "stream",
     "text": [
      "Plotting labels to runs\\detect\\V0_uecfood100_yolov8_test2\\labels.jpg... \n",
      "\u001b[34m\u001b[1moptimizer:\u001b[0m SGD(lr=0.01, momentum=0.937) with parameter groups 57 weight(decay=0.0), 64 weight(decay=0.0005), 63 bias(decay=0.0)\n",
      "Image sizes 640 train, 640 val\n",
      "Using 0 dataloader workers\n",
      "Logging results to \u001b[1mruns\\detect\\V0_uecfood100_yolov8_test2\u001b[0m\n",
      "Starting training for 50 epochs...\n",
      "\n",
      "      Epoch    GPU_mem   box_loss   cls_loss   dfl_loss  Instances       Size\n"
     ]
    },
    {
     "name": "stderr",
     "output_type": "stream",
     "text": [
      "       1/50         0G     0.9651      4.935      1.493         40        640:   8%|▊         | 53/647 [03:13<37:42,  3"
     ]
    }
   ],
   "source": [
    "from ultralytics import YOLO\n",
    "\n",
    "# Load a pre-trained YOLOv8 model (you can use yolov8n.pt, yolov8s.pt, yolov8m.pt, etc.)\n",
    "model = YOLO('yolov8n.pt')  # 'n' = nano (small, fast). Or use 's', 'm', 'l' based on your GPU.\n",
    "\n",
    "# Train the model\n",
    "model.train(\n",
    "    data=r\"D:\\Projects\\CDS\\Capstone Project\\UECFOOD100\\processed_for_yolo\\dataset.yaml\",  # your dataset.yaml path\n",
    "    epochs=50,              # Number of training epochs (can increase if you want)\n",
    "    imgsz=640,              # Image size (640 is good, you can experiment later)\n",
    "    batch=16,               # Batch size (depends on your GPU memory)\n",
    "    name='V0_uecfood100_yolov8_test', # Run name (creates folder 'runs/detect/uecfood100_yolov8')\n",
    "    workers=4,              # Number of data loader workers\n",
    "    optimizer='SGD',        # Optional: You can use 'Adam', 'SGD', etc.\n",
    "    patience=20             # Optional: Early stopping patience\n",
    ")\n"
   ]
  },
  {
   "cell_type": "code",
   "execution_count": null,
   "id": "d61269c9-f578-4c63-8e40-c1bea22f62bd",
   "metadata": {},
   "outputs": [],
   "source": []
  }
 ],
 "metadata": {
  "kernelspec": {
   "display_name": "Python 3 (ipykernel)",
   "language": "python",
   "name": "python3"
  },
  "language_info": {
   "codemirror_mode": {
    "name": "ipython",
    "version": 3
   },
   "file_extension": ".py",
   "mimetype": "text/x-python",
   "name": "python",
   "nbconvert_exporter": "python",
   "pygments_lexer": "ipython3",
   "version": "3.9.21"
  }
 },
 "nbformat": 4,
 "nbformat_minor": 5
}
